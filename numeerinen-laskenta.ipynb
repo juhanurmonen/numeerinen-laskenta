{
 "cells": [
  {
   "cell_type": "markdown",
   "metadata": {},
   "source": [
    "# # Numeerinen laskenta -- Numpy"
   ]
  },
  {
   "cell_type": "markdown",
   "metadata": {
    "collapsed": true
   },
   "source": [
    "- 1D taulukko esim. [4, 8, 17, 24, 9], tyyppiä (5,)\n",
    "- 2D taulukko esim.\n",
    "       [[4, 6, 13, 5],\n",
    "        [26, 8, 18, 6]]\n",
    "        typpiä (2,4)\n",
    "- 3D taulukko esim.\n",
    "       [[[12, 4, 5, 27],\n",
    "       "
   ]
  }
 ],
 "metadata": {
  "kernelspec": {
   "display_name": "Python 3",
   "language": "python",
   "name": "python3"
  },
  "language_info": {
   "codemirror_mode": {
    "name": "ipython",
    "version": 3
   },
   "file_extension": ".py",
   "mimetype": "text/x-python",
   "name": "python",
   "nbconvert_exporter": "python",
   "pygments_lexer": "ipython3",
   "version": "3.6.3"
  }
 },
 "nbformat": 4,
 "nbformat_minor": 2
}
